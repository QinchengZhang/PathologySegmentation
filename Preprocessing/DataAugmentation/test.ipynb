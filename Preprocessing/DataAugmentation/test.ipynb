{
 "metadata": {
  "language_info": {
   "codemirror_mode": {
    "name": "ipython",
    "version": 3
   },
   "file_extension": ".py",
   "mimetype": "text/x-python",
   "name": "python",
   "nbconvert_exporter": "python",
   "pygments_lexer": "ipython3",
   "version": "3.7.6-final"
  },
  "orig_nbformat": 2,
  "kernelspec": {
   "name": "python3",
   "display_name": "Python 3"
  }
 },
 "nbformat": 4,
 "nbformat_minor": 2,
 "cells": [
  {
   "cell_type": "code",
   "execution_count": 15,
   "metadata": {},
   "outputs": [],
   "source": [
    "from Augmentation import *\n",
    "from PIL import Image\n",
    "import glob\n",
    "import os\n",
    "from matplotlib import pyplot as plt\n"
   ]
  },
  {
   "cell_type": "code",
   "execution_count": 16,
   "metadata": {},
   "outputs": [],
   "source": [
    "img_path = \"G:\\\\TJUZQC\\\\DataSet\\\\Beijing-small_cell_lung_cancer-pathology\\\\patch_1024\\\\imgs_color_normalized\\\\\"\n",
    "mask_path = \"G:\\\\TJUZQC\\\\DataSet\\\\Beijing-small_cell_lung_cancer-pathology\\\\patch_1024\\\\masks\\\\\"\n",
    "img_augment_path = \"G:\\\\TJUZQC\\\\DataSet\\\\Beijing-small_cell_lung_cancer-pathology\\\\patch_1024\\\\imgs_augmented_again\"\n",
    "mask_augment_path = \"G:\\\\TJUZQC\\\\DataSet\\\\Beijing-small_cell_lung_cancer-pathology\\\\patch_1024\\\\masks_augmented_again\"\n",
    "\n",
    "if not os.path.exists(img_augment_path):\n",
    "    os.mkdir(img_augment_path)\n",
    "if not os.path.exists(mask_augment_path):\n",
    "    os.mkdir(mask_augment_path)"
   ]
  },
  {
   "cell_type": "code",
   "execution_count": 17,
   "metadata": {
    "tags": []
   },
   "outputs": [
    {
     "output_type": "stream",
     "name": "stdout",
     "text": "G:\\TJUZQC\\DataSet\\Beijing-small_cell_lung_cancer-pathology\\patch_1024\\imgs_color_normalized\\2020-01-20 10.39.42-0.png\nbasicOps.OffsetOps\nG:\\TJUZQC\\DataSet\\Beijing-small_cell_lung_cancer-pathology\\patch_1024\\imgs_color_normalized\\2020-01-20 10.39.42-1.png\nbasicOps.OffsetOps\nG:\\TJUZQC\\DataSet\\Beijing-small_cell_lung_cancer-pathology\\patch_1024\\imgs_color_normalized\\2020-01-20 10.39.42-2.png\nbasicOps.MirrorOps\nG:\\TJUZQC\\DataSet\\Beijing-small_cell_lung_cancer-pathology\\patch_1024\\imgs_color_normalized\\2020-01-20 10.39.42-3.png\nbasicOps.OffsetOps\nG:\\TJUZQC\\DataSet\\Beijing-small_cell_lung_cancer-pathology\\patch_1024\\imgs_color_normalized\\2020-01-20 10.59.43-0.png\nbasicOps.FlipOps\nG:\\TJUZQC\\DataSet\\Beijing-small_cell_lung_cancer-pathology\\patch_1024\\imgs_color_normalized\\2020-01-20 10.59.43-1.png\nbasicOps.OffsetOps\nG:\\TJUZQC\\DataSet\\Beijing-small_cell_lung_cancer-pathology\\patch_1024\\imgs_color_normalized\\2020-01-20 10.59.43-2.png\nbasicOps.OffsetOps\nG:\\TJUZQC\\DataSet\\Beijing-small_cell_lung_cancer-pathology\\patch_1024\\imgs_color_normalized\\2020-01-20 10.59.43-3.png\nbasicOps.FlipOps\nG:\\TJUZQC\\DataSet\\Beijing-small_cell_lung_cancer-pathology\\patch_1024\\imgs_color_normalized\\2020-01-20 11.09.04-0.png\nbasicOps.FlipOps\nG:\\TJUZQC\\DataSet\\Beijing-small_cell_lung_cancer-pathology\\patch_1024\\imgs_color_normalized\\2020-01-20 11.09.04-1.png\nbasicOps.OffsetOps\nG:\\TJUZQC\\DataSet\\Beijing-small_cell_lung_cancer-pathology\\patch_1024\\imgs_color_normalized\\2020-01-20 12.54.13-0.png\nbasicOps.OffsetOps\nG:\\TJUZQC\\DataSet\\Beijing-small_cell_lung_cancer-pathology\\patch_1024\\imgs_color_normalized\\2020-01-20 12.54.13-1.png\nbasicOps.MirrorOps\nG:\\TJUZQC\\DataSet\\Beijing-small_cell_lung_cancer-pathology\\patch_1024\\imgs_color_normalized\\2020-01-20 13.19.46-0.png\nbasicOps.FlipOps\nG:\\TJUZQC\\DataSet\\Beijing-small_cell_lung_cancer-pathology\\patch_1024\\imgs_color_normalized\\2020-01-20 13.19.46-1.png\nbasicOps.OffsetOps\nG:\\TJUZQC\\DataSet\\Beijing-small_cell_lung_cancer-pathology\\patch_1024\\imgs_color_normalized\\2020-01-20 13.19.46-2.png\nbasicOps.OffsetOps\nG:\\TJUZQC\\DataSet\\Beijing-small_cell_lung_cancer-pathology\\patch_1024\\imgs_color_normalized\\2020-01-20 13.19.46-3.png\nbasicOps.MirrorOps\nG:\\TJUZQC\\DataSet\\Beijing-small_cell_lung_cancer-pathology\\patch_1024\\imgs_color_normalized\\2020-01-20 13.26.49-0.png\nbasicOps.FlipOps\nG:\\TJUZQC\\DataSet\\Beijing-small_cell_lung_cancer-pathology\\patch_1024\\imgs_color_normalized\\2020-01-20 13.26.49-1.png\nbasicOps.OffsetOps\nG:\\TJUZQC\\DataSet\\Beijing-small_cell_lung_cancer-pathology\\patch_1024\\imgs_color_normalized\\2020-01-20 13.26.49-2.png\nbasicOps.OffsetOps\nG:\\TJUZQC\\DataSet\\Beijing-small_cell_lung_cancer-pathology\\patch_1024\\imgs_color_normalized\\2020-01-20 13.26.49-3.png\nbasicOps.OffsetOps\nG:\\TJUZQC\\DataSet\\Beijing-small_cell_lung_cancer-pathology\\patch_1024\\imgs_color_normalized\\2020-01-20 13.34.13-0.png\nbasicOps.FlipOps\nG:\\TJUZQC\\DataSet\\Beijing-small_cell_lung_cancer-pathology\\patch_1024\\imgs_color_normalized\\2020-01-20 13.34.13-1.png\nbasicOps.FlipOps\nG:\\TJUZQC\\DataSet\\Beijing-small_cell_lung_cancer-pathology\\patch_1024\\imgs_color_normalized\\2020-01-20 14.01.42-0.png\nbasicOps.OffsetOps\nG:\\TJUZQC\\DataSet\\Beijing-small_cell_lung_cancer-pathology\\patch_1024\\imgs_color_normalized\\2020-01-20 14.01.42-1.png\nbasicOps.OffsetOps\nG:\\TJUZQC\\DataSet\\Beijing-small_cell_lung_cancer-pathology\\patch_1024\\imgs_color_normalized\\2020-01-20 14.01.42-2.png\nbasicOps.MirrorOps\nG:\\TJUZQC\\DataSet\\Beijing-small_cell_lung_cancer-pathology\\patch_1024\\imgs_color_normalized\\2020-01-20 15.05.30-0.png\nbasicOps.FlipOps\nG:\\TJUZQC\\DataSet\\Beijing-small_cell_lung_cancer-pathology\\patch_1024\\imgs_color_normalized\\2020-01-20 15.05.30-1.png\nbasicOps.MirrorOps\nG:\\TJUZQC\\DataSet\\Beijing-small_cell_lung_cancer-pathology\\patch_1024\\imgs_color_normalized\\2020-01-20 20.52.01-0.png\nbasicOps.FlipOps\nG:\\TJUZQC\\DataSet\\Beijing-small_cell_lung_cancer-pathology\\patch_1024\\imgs_color_normalized\\2020-01-20 20.52.01-1.png\nbasicOps.OffsetOps\nG:\\TJUZQC\\DataSet\\Beijing-small_cell_lung_cancer-pathology\\patch_1024\\imgs_color_normalized\\2020-01-20 20.52.01-2.png\nbasicOps.MirrorOps\nG:\\TJUZQC\\DataSet\\Beijing-small_cell_lung_cancer-pathology\\patch_1024\\imgs_color_normalized\\2020-01-20 20.52.01-3.png\nbasicOps.OffsetOps\nG:\\TJUZQC\\DataSet\\Beijing-small_cell_lung_cancer-pathology\\patch_1024\\imgs_color_normalized\\2020-01-20 20.52.01-4.png\nbasicOps.MirrorOps\nG:\\TJUZQC\\DataSet\\Beijing-small_cell_lung_cancer-pathology\\patch_1024\\imgs_color_normalized\\2020-01-20 20.52.01-5.png\nbasicOps.FlipOps\nG:\\TJUZQC\\DataSet\\Beijing-small_cell_lung_cancer-pathology\\patch_1024\\imgs_color_normalized\\2020-01-20 20.52.01-6.png\nbasicOps.FlipOps\nG:\\TJUZQC\\DataSet\\Beijing-small_cell_lung_cancer-pathology\\patch_1024\\imgs_color_normalized\\2020-01-20 20.52.01-7.png\nbasicOps.FlipOps\nG:\\TJUZQC\\DataSet\\Beijing-small_cell_lung_cancer-pathology\\patch_1024\\imgs_color_normalized\\2020-01-20 20.52.01-8.png\nbasicOps.MirrorOps\nG:\\TJUZQC\\DataSet\\Beijing-small_cell_lung_cancer-pathology\\patch_1024\\imgs_color_normalized\\2020-01-20 20.52.01-9.png\nbasicOps.FlipOps\nG:\\TJUZQC\\DataSet\\Beijing-small_cell_lung_cancer-pathology\\patch_1024\\imgs_color_normalized\\2020-01-20 22.26.32-0.png\nbasicOps.FlipOps\nG:\\TJUZQC\\DataSet\\Beijing-small_cell_lung_cancer-pathology\\patch_1024\\imgs_color_normalized\\2020-01-20 22.26.32-1.png\nbasicOps.FlipOps\nG:\\TJUZQC\\DataSet\\Beijing-small_cell_lung_cancer-pathology\\patch_1024\\imgs_color_normalized\\2020-01-20 22.26.32-2.png\nbasicOps.MirrorOps\nG:\\TJUZQC\\DataSet\\Beijing-small_cell_lung_cancer-pathology\\patch_1024\\imgs_color_normalized\\2020-01-20 22.26.32-3.png\nbasicOps.FlipOps\nG:\\TJUZQC\\DataSet\\Beijing-small_cell_lung_cancer-pathology\\patch_1024\\imgs_color_normalized\\2020-01-20 23.05.54-0.png\nbasicOps.FlipOps\nG:\\TJUZQC\\DataSet\\Beijing-small_cell_lung_cancer-pathology\\patch_1024\\imgs_color_normalized\\2020-01-20 23.05.54-1.png\nbasicOps.MirrorOps\nG:\\TJUZQC\\DataSet\\Beijing-small_cell_lung_cancer-pathology\\patch_1024\\imgs_color_normalized\\2020-01-20 23.05.54-2.png\nbasicOps.MirrorOps\nG:\\TJUZQC\\DataSet\\Beijing-small_cell_lung_cancer-pathology\\patch_1024\\imgs_color_normalized\\2020-01-20 23.05.54-3.png\nbasicOps.FlipOps\nG:\\TJUZQC\\DataSet\\Beijing-small_cell_lung_cancer-pathology\\patch_1024\\imgs_color_normalized\\2020-01-20 23.05.54-4.png\nbasicOps.MirrorOps\nG:\\TJUZQC\\DataSet\\Beijing-small_cell_lung_cancer-pathology\\patch_1024\\imgs_color_normalized\\2020-01-20 23.17.39-0.png\nbasicOps.OffsetOps\nG:\\TJUZQC\\DataSet\\Beijing-small_cell_lung_cancer-pathology\\patch_1024\\imgs_color_normalized\\2020-01-20 23.17.39-1.png\nbasicOps.FlipOps\nG:\\TJUZQC\\DataSet\\Beijing-small_cell_lung_cancer-pathology\\patch_1024\\imgs_color_normalized\\2020-01-20 23.17.39-2.png\nbasicOps.FlipOps\nG:\\TJUZQC\\DataSet\\Beijing-small_cell_lung_cancer-pathology\\patch_1024\\imgs_color_normalized\\2020-01-20 23.17.39-3.png\nbasicOps.OffsetOps\nG:\\TJUZQC\\DataSet\\Beijing-small_cell_lung_cancer-pathology\\patch_1024\\imgs_color_normalized\\2020-01-21 00.18.11-0.png\nbasicOps.MirrorOps\nG:\\TJUZQC\\DataSet\\Beijing-small_cell_lung_cancer-pathology\\patch_1024\\imgs_color_normalized\\2020-01-21 00.18.11-1.png\nbasicOps.OffsetOps\nG:\\TJUZQC\\DataSet\\Beijing-small_cell_lung_cancer-pathology\\patch_1024\\imgs_color_normalized\\2020-01-21 00.23.49-0.png\nbasicOps.FlipOps\nG:\\TJUZQC\\DataSet\\Beijing-small_cell_lung_cancer-pathology\\patch_1024\\imgs_color_normalized\\2020-01-21 00.23.49-1.png\nbasicOps.MirrorOps\nG:\\TJUZQC\\DataSet\\Beijing-small_cell_lung_cancer-pathology\\patch_1024\\imgs_color_normalized\\2020-01-21 00.59.20-0.png\nbasicOps.FlipOps\nG:\\TJUZQC\\DataSet\\Beijing-small_cell_lung_cancer-pathology\\patch_1024\\imgs_color_normalized\\2020-01-21 00.59.20-1.png\nbasicOps.MirrorOps\nG:\\TJUZQC\\DataSet\\Beijing-small_cell_lung_cancer-pathology\\patch_1024\\imgs_color_normalized\\2020-01-21 00.59.20-2.png\nbasicOps.FlipOps\nG:\\TJUZQC\\DataSet\\Beijing-small_cell_lung_cancer-pathology\\patch_1024\\imgs_color_normalized\\2020-01-21 01.31.59-0.png\nbasicOps.OffsetOps\nG:\\TJUZQC\\DataSet\\Beijing-small_cell_lung_cancer-pathology\\patch_1024\\imgs_color_normalized\\2020-01-21 01.31.59-1.png\nbasicOps.OffsetOps\nG:\\TJUZQC\\DataSet\\Beijing-small_cell_lung_cancer-pathology\\patch_1024\\imgs_color_normalized\\2020-01-21 01.31.59-2.png\nbasicOps.OffsetOps\nG:\\TJUZQC\\DataSet\\Beijing-small_cell_lung_cancer-pathology\\patch_1024\\imgs_color_normalized\\2020-01-21 02.17.51-0.png\nbasicOps.FlipOps\nG:\\TJUZQC\\DataSet\\Beijing-small_cell_lung_cancer-pathology\\patch_1024\\imgs_color_normalized\\2020-01-21 02.17.51-1.png\nbasicOps.OffsetOps\nG:\\TJUZQC\\DataSet\\Beijing-small_cell_lung_cancer-pathology\\patch_1024\\imgs_color_normalized\\2020-01-21 02.17.51-2.png\nbasicOps.MirrorOps\nG:\\TJUZQC\\DataSet\\Beijing-small_cell_lung_cancer-pathology\\patch_1024\\imgs_color_normalized\\2020-01-21 02.17.51-3.png\nbasicOps.FlipOps\nG:\\TJUZQC\\DataSet\\Beijing-small_cell_lung_cancer-pathology\\patch_1024\\imgs_color_normalized\\2020-01-21 02.17.51-4.png\nbasicOps.MirrorOps\nG:\\TJUZQC\\DataSet\\Beijing-small_cell_lung_cancer-pathology\\patch_1024\\imgs_color_normalized\\2020-01-21 02.17.51-5.png\nbasicOps.OffsetOps\nG:\\TJUZQC\\DataSet\\Beijing-small_cell_lung_cancer-pathology\\patch_1024\\imgs_color_normalized\\2020-01-21 02.17.51-6.png\nbasicOps.OffsetOps\nG:\\TJUZQC\\DataSet\\Beijing-small_cell_lung_cancer-pathology\\patch_1024\\imgs_color_normalized\\2020-01-21 02.17.51-7.png\nbasicOps.FlipOps\nG:\\TJUZQC\\DataSet\\Beijing-small_cell_lung_cancer-pathology\\patch_1024\\imgs_color_normalized\\2020-01-21 19.38.21-0.png\nbasicOps.MirrorOps\nG:\\TJUZQC\\DataSet\\Beijing-small_cell_lung_cancer-pathology\\patch_1024\\imgs_color_normalized\\2020-01-21 19.38.21-1.png\nbasicOps.FlipOps\nG:\\TJUZQC\\DataSet\\Beijing-small_cell_lung_cancer-pathology\\patch_1024\\imgs_color_normalized\\2020-01-21 19.55.32-0.png\nbasicOps.FlipOps\nG:\\TJUZQC\\DataSet\\Beijing-small_cell_lung_cancer-pathology\\patch_1024\\imgs_color_normalized\\2020-01-21 19.55.32-1.png\nbasicOps.OffsetOps\nG:\\TJUZQC\\DataSet\\Beijing-small_cell_lung_cancer-pathology\\patch_1024\\imgs_color_normalized\\2020-01-21 19.55.32-2.png\nbasicOps.FlipOps\nG:\\TJUZQC\\DataSet\\Beijing-small_cell_lung_cancer-pathology\\patch_1024\\imgs_color_normalized\\2020-01-21 19.55.32-3.png\nbasicOps.OffsetOps\nG:\\TJUZQC\\DataSet\\Beijing-small_cell_lung_cancer-pathology\\patch_1024\\imgs_color_normalized\\2020-01-21 19.55.32-4.png\nbasicOps.OffsetOps\nG:\\TJUZQC\\DataSet\\Beijing-small_cell_lung_cancer-pathology\\patch_1024\\imgs_color_normalized\\2020-01-21 19.55.32-5.png\nbasicOps.OffsetOps\nG:\\TJUZQC\\DataSet\\Beijing-small_cell_lung_cancer-pathology\\patch_1024\\imgs_color_normalized\\2020-01-21 20.03.41-0.png\nbasicOps.OffsetOps\nG:\\TJUZQC\\DataSet\\Beijing-small_cell_lung_cancer-pathology\\patch_1024\\imgs_color_normalized\\2020-01-21 20.03.41-1.png\nbasicOps.OffsetOps\nG:\\TJUZQC\\DataSet\\Beijing-small_cell_lung_cancer-pathology\\patch_1024\\imgs_color_normalized\\2020-01-21 20.31.45-0.png\nbasicOps.OffsetOps\nG:\\TJUZQC\\DataSet\\Beijing-small_cell_lung_cancer-pathology\\patch_1024\\imgs_color_normalized\\2020-01-21 20.31.45-1.png\nbasicOps.MirrorOps\nG:\\TJUZQC\\DataSet\\Beijing-small_cell_lung_cancer-pathology\\patch_1024\\imgs_color_normalized\\2020-01-21 20.31.45-2.png\nbasicOps.FlipOps\nG:\\TJUZQC\\DataSet\\Beijing-small_cell_lung_cancer-pathology\\patch_1024\\imgs_color_normalized\\2020-01-21 20.31.45-3.png\nbasicOps.OffsetOps\nG:\\TJUZQC\\DataSet\\Beijing-small_cell_lung_cancer-pathology\\patch_1024\\imgs_color_normalized\\2020-01-21 20.31.45-4.png\nbasicOps.OffsetOps\nG:\\TJUZQC\\DataSet\\Beijing-small_cell_lung_cancer-pathology\\patch_1024\\imgs_color_normalized\\2020-01-21 20.39.12-0.png\nbasicOps.FlipOps\nG:\\TJUZQC\\DataSet\\Beijing-small_cell_lung_cancer-pathology\\patch_1024\\imgs_color_normalized\\2020-01-21 20.39.12-1.png\nbasicOps.MirrorOps\nG:\\TJUZQC\\DataSet\\Beijing-small_cell_lung_cancer-pathology\\patch_1024\\imgs_color_normalized\\2020-01-21 20.39.12-2.png\nbasicOps.OffsetOps\nG:\\TJUZQC\\DataSet\\Beijing-small_cell_lung_cancer-pathology\\patch_1024\\imgs_color_normalized\\2020-01-21 20.39.12-3.png\nbasicOps.OffsetOps\nG:\\TJUZQC\\DataSet\\Beijing-small_cell_lung_cancer-pathology\\patch_1024\\imgs_color_normalized\\2020-01-21 20.39.12-4.png\nbasicOps.FlipOps\nG:\\TJUZQC\\DataSet\\Beijing-small_cell_lung_cancer-pathology\\patch_1024\\imgs_color_normalized\\2020-01-21 20.39.12-5.png\nbasicOps.MirrorOps\nG:\\TJUZQC\\DataSet\\Beijing-small_cell_lung_cancer-pathology\\patch_1024\\imgs_color_normalized\\2020-01-21 20.39.12-6.png\nbasicOps.MirrorOps\nG:\\TJUZQC\\DataSet\\Beijing-small_cell_lung_cancer-pathology\\patch_1024\\imgs_color_normalized\\2020-01-21 20.42.35-0.png\nbasicOps.MirrorOps\nG:\\TJUZQC\\DataSet\\Beijing-small_cell_lung_cancer-pathology\\patch_1024\\imgs_color_normalized\\2020-01-21 20.42.35-1.png\nbasicOps.FlipOps\nG:\\TJUZQC\\DataSet\\Beijing-small_cell_lung_cancer-pathology\\patch_1024\\imgs_color_normalized\\2020-01-21 20.42.35-10.png\nbasicOps.MirrorOps\nG:\\TJUZQC\\DataSet\\Beijing-small_cell_lung_cancer-pathology\\patch_1024\\imgs_color_normalized\\2020-01-21 20.42.35-11.png\nbasicOps.MirrorOps\nG:\\TJUZQC\\DataSet\\Beijing-small_cell_lung_cancer-pathology\\patch_1024\\imgs_color_normalized\\2020-01-21 20.42.35-12.png\nbasicOps.FlipOps\nG:\\TJUZQC\\DataSet\\Beijing-small_cell_lung_cancer-pathology\\patch_1024\\imgs_color_normalized\\2020-01-21 20.42.35-13.png\nbasicOps.MirrorOps\nG:\\TJUZQC\\DataSet\\Beijing-small_cell_lung_cancer-pathology\\patch_1024\\imgs_color_normalized\\2020-01-21 20.42.35-14.png\nbasicOps.MirrorOps\nG:\\TJUZQC\\DataSet\\Beijing-small_cell_lung_cancer-pathology\\patch_1024\\imgs_color_normalized\\2020-01-21 20.42.35-15.png\nbasicOps.OffsetOps\nG:\\TJUZQC\\DataSet\\Beijing-small_cell_lung_cancer-pathology\\patch_1024\\imgs_color_normalized\\2020-01-21 20.42.35-16.png\nbasicOps.MirrorOps\nG:\\TJUZQC\\DataSet\\Beijing-small_cell_lung_cancer-pathology\\patch_1024\\imgs_color_normalized\\2020-01-21 20.42.35-17.png\nbasicOps.OffsetOps\nG:\\TJUZQC\\DataSet\\Beijing-small_cell_lung_cancer-pathology\\patch_1024\\imgs_color_normalized\\2020-01-21 20.42.35-18.png\nbasicOps.OffsetOps\nG:\\TJUZQC\\DataSet\\Beijing-small_cell_lung_cancer-pathology\\patch_1024\\imgs_color_normalized\\2020-01-21 20.42.35-19.png\nbasicOps.OffsetOps\nG:\\TJUZQC\\DataSet\\Beijing-small_cell_lung_cancer-pathology\\patch_1024\\imgs_color_normalized\\2020-01-21 20.42.35-2.png\nbasicOps.OffsetOps\nG:\\TJUZQC\\DataSet\\Beijing-small_cell_lung_cancer-pathology\\patch_1024\\imgs_color_normalized\\2020-01-21 20.42.35-20.png\nbasicOps.FlipOps\nG:\\TJUZQC\\DataSet\\Beijing-small_cell_lung_cancer-pathology\\patch_1024\\imgs_color_normalized\\2020-01-21 20.42.35-21.png\nbasicOps.FlipOps\nG:\\TJUZQC\\DataSet\\Beijing-small_cell_lung_cancer-pathology\\patch_1024\\imgs_color_normalized\\2020-01-21 20.42.35-22.png\nbasicOps.MirrorOps\nG:\\TJUZQC\\DataSet\\Beijing-small_cell_lung_cancer-pathology\\patch_1024\\imgs_color_normalized\\2020-01-21 20.42.35-23.png\nbasicOps.FlipOps\nG:\\TJUZQC\\DataSet\\Beijing-small_cell_lung_cancer-pathology\\patch_1024\\imgs_color_normalized\\2020-01-21 20.42.35-3.png\nbasicOps.OffsetOps\nG:\\TJUZQC\\DataSet\\Beijing-small_cell_lung_cancer-pathology\\patch_1024\\imgs_color_normalized\\2020-01-21 20.42.35-4.png\nbasicOps.OffsetOps\nG:\\TJUZQC\\DataSet\\Beijing-small_cell_lung_cancer-pathology\\patch_1024\\imgs_color_normalized\\2020-01-21 20.42.35-5.png\nbasicOps.FlipOps\nG:\\TJUZQC\\DataSet\\Beijing-small_cell_lung_cancer-pathology\\patch_1024\\imgs_color_normalized\\2020-01-21 20.42.35-6.png\nbasicOps.MirrorOps\nG:\\TJUZQC\\DataSet\\Beijing-small_cell_lung_cancer-pathology\\patch_1024\\imgs_color_normalized\\2020-01-21 20.42.35-7.png\nbasicOps.OffsetOps\nG:\\TJUZQC\\DataSet\\Beijing-small_cell_lung_cancer-pathology\\patch_1024\\imgs_color_normalized\\2020-01-21 20.42.35-8.png\nbasicOps.FlipOps\nG:\\TJUZQC\\DataSet\\Beijing-small_cell_lung_cancer-pathology\\patch_1024\\imgs_color_normalized\\2020-01-21 20.42.35-9.png\nbasicOps.MirrorOps\nG:\\TJUZQC\\DataSet\\Beijing-small_cell_lung_cancer-pathology\\patch_1024\\imgs_color_normalized\\2020-01-21 21.42.02-0.png\nbasicOps.OffsetOps\nG:\\TJUZQC\\DataSet\\Beijing-small_cell_lung_cancer-pathology\\patch_1024\\imgs_color_normalized\\2020-01-21 21.42.02-1.png\nbasicOps.MirrorOps\nG:\\TJUZQC\\DataSet\\Beijing-small_cell_lung_cancer-pathology\\patch_1024\\imgs_color_normalized\\2020-01-21 21.42.02-2.png\nbasicOps.FlipOps\nG:\\TJUZQC\\DataSet\\Beijing-small_cell_lung_cancer-pathology\\patch_1024\\imgs_color_normalized\\2020-01-21 21.42.02-3.png\nbasicOps.OffsetOps\nG:\\TJUZQC\\DataSet\\Beijing-small_cell_lung_cancer-pathology\\patch_1024\\imgs_color_normalized\\2020-01-21 21.51.31-0.png\nbasicOps.FlipOps\nG:\\TJUZQC\\DataSet\\Beijing-small_cell_lung_cancer-pathology\\patch_1024\\imgs_color_normalized\\2020-01-21 21.51.31-1.png\nbasicOps.MirrorOps\nG:\\TJUZQC\\DataSet\\Beijing-small_cell_lung_cancer-pathology\\patch_1024\\imgs_color_normalized\\2020-01-21 23.10.07-0.png\nbasicOps.MirrorOps\nG:\\TJUZQC\\DataSet\\Beijing-small_cell_lung_cancer-pathology\\patch_1024\\imgs_color_normalized\\2020-01-21 23.10.07-1.png\nbasicOps.FlipOps\nG:\\TJUZQC\\DataSet\\Beijing-small_cell_lung_cancer-pathology\\patch_1024\\imgs_color_normalized\\2020-01-21 23.10.07-2.png\nbasicOps.OffsetOps\nG:\\TJUZQC\\DataSet\\Beijing-small_cell_lung_cancer-pathology\\patch_1024\\imgs_color_normalized\\2020-01-21 23.10.07-3.png\nbasicOps.OffsetOps\nG:\\TJUZQC\\DataSet\\Beijing-small_cell_lung_cancer-pathology\\patch_1024\\imgs_color_normalized\\2020-01-21 23.10.07-4.png\nbasicOps.FlipOps\nG:\\TJUZQC\\DataSet\\Beijing-small_cell_lung_cancer-pathology\\patch_1024\\imgs_color_normalized\\2020-01-21 23.10.07-5.png\nbasicOps.FlipOps\nG:\\TJUZQC\\DataSet\\Beijing-small_cell_lung_cancer-pathology\\patch_1024\\imgs_color_normalized\\2020-01-22 10.44.42-0.png\nbasicOps.MirrorOps\nG:\\TJUZQC\\DataSet\\Beijing-small_cell_lung_cancer-pathology\\patch_1024\\imgs_color_normalized\\2020-01-22 10.44.42-1.png\nbasicOps.MirrorOps\nG:\\TJUZQC\\DataSet\\Beijing-small_cell_lung_cancer-pathology\\patch_1024\\imgs_color_normalized\\2020-01-22 10.44.42-2.png\nbasicOps.FlipOps\nG:\\TJUZQC\\DataSet\\Beijing-small_cell_lung_cancer-pathology\\patch_1024\\imgs_color_normalized\\2020-01-22 10.44.42-3.png\nbasicOps.OffsetOps\n"
    }
   ],
   "source": [
    "for name in glob.glob(img_path + \"*.png\"):\n",
    "    print(name)\n",
    "    base_name = os.path.basename(name)\n",
    "    img = Image.open(name)\n",
    "    mask = Image.open(mask_path + base_name)\n",
    "    paddingandresize = ApplyOpsWithMask([\n",
    "        PaddingOps(100, padding_mode='reflect'),\n",
    "        ResizeOps(img.size)\n",
    "    ])\n",
    "    transform = RandomChoiceWithMask([\n",
    "        # AffineOps(30, fillcolor=0),\n",
    "        FlipOps(),\n",
    "        MirrorOps(),\n",
    "        # RotateOps(30, fill=0),\n",
    "        OffsetOps(50),\n",
    "        # paddingandresize,\n",
    "    ])\n",
    "    img_new, mask_new = transform(img, mask)\n",
    "\n",
    "    # plt.subplot(221)\n",
    "    # plt.imshow(img_new)\n",
    "    # plt.subplot(222)\n",
    "    # plt.imshow(mask_new, cmap='gray')\n",
    "    # plt.subplot(223)\n",
    "    # plt.imshow(img)\n",
    "    # plt.subplot(224)\n",
    "    # plt.imshow(mask, cmap='gray')\n",
    "    # plt.show()\n",
    "    img_new.save(img_augment_path + \"/\" +  os.path.splitext(base_name)[0] + \"_augment_again\" + os.path.splitext(base_name)[1])\n",
    "    mask_new.save(mask_augment_path + \"/\" + os.path.splitext(base_name)[0] + \"_augment_again\" + os.path.splitext(base_name)[1])\n"
   ]
  },
  {
   "cell_type": "code",
   "execution_count": null,
   "metadata": {},
   "outputs": [],
   "source": [
    "img1 = torch.ones(3, 3)\n",
    "\n",
    "plt.subplot(141)\n",
    "plt.imshow(img1)\n",
    "plt.subplot(142)\n",
    "plt.imshow(mask1)\n",
    "plt.subplot(143)\n",
    "plt.imshow(img2)\n",
    "plt.subplot(144)\n",
    "plt.imshow(mask2)\n",
    "plt.show()"
   ]
  }
 ]
}