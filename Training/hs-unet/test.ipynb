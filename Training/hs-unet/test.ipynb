{
 "metadata": {
  "language_info": {
   "codemirror_mode": {
    "name": "ipython",
    "version": 3
   },
   "file_extension": ".py",
   "mimetype": "text/x-python",
   "name": "python",
   "nbconvert_exporter": "python",
   "pygments_lexer": "ipython3",
   "version": "3.7.6-final"
  },
  "orig_nbformat": 2,
  "kernelspec": {
   "name": "Python 3.7.6 64-bit ('base': conda)",
   "display_name": "Python 3.7.6 64-bit ('base': conda)",
   "metadata": {
    "interpreter": {
     "hash": "a8f61be024eba58adef938c9aa1e29e02cb3dece83a5348b1a2dafd16a070453"
    }
   }
  }
 },
 "nbformat": 4,
 "nbformat_minor": 2,
 "cells": [
  {
   "cell_type": "code",
   "execution_count": 23,
   "metadata": {},
   "outputs": [],
   "source": [
    "import torch.nn as nn\n",
    "import torch"
   ]
  },
  {
   "cell_type": "code",
   "execution_count": 55,
   "metadata": {},
   "outputs": [],
   "source": [
    "class HSBlock(nn.Module):\n",
    "    def __init__(self, w:int, split:int, stride:int=1) -> None:\n",
    "        super(HSBlock, self).__init__()\n",
    "        self.split_list = []\n",
    "        self.last_split = None\n",
    "        self.w = w\n",
    "        self.split = split\n",
    "        self.stride = stride\n",
    "\n",
    "    def forward(self, x):\n",
    "        self.last_split = None\n",
    "        channels = x.shape[1]\n",
    "        assert channels == self.w*self.split, f'input channels({channels}) is not equal to w({self.w})*split({self.split})'\n",
    "        self.split_list.append(x[:, 0:self.w, :, :])\n",
    "        for s in range(1, self.split):\n",
    "            if self.last_split is None:\n",
    "                x1, x2 = self._split(x[:, s*self.w:(s+1)*self.w, :, :])\n",
    "                self.split_list.append(x1)\n",
    "                self.last_split = x2\n",
    "            else:\n",
    "                temp = torch.cat([self.last_split, x[:, s*self.w:(s+1)*self.w, :, :]], dim=1)\n",
    "                ops = nn.Sequential(\n",
    "                    nn.Conv2d(temp.shape[1], temp.shape[1], kernel_size=3, padding=1, stride=self.stride),\n",
    "                    nn.BatchNorm2d(temp.shape[1]),\n",
    "                    nn.ReLU(inplace=True)\n",
    "                )\n",
    "                temp = ops(temp)\n",
    "                x1, x2 = self._split(temp)\n",
    "                del temp\n",
    "                self.split_list.append(x1)\n",
    "                self.last_split = x2\n",
    "        self.split_list.append(self.last_split)\n",
    "        return torch.cat(self.split_list, dim=1)\n",
    "\n",
    "    def _split(self, x):\n",
    "        channels = int(x.shape[1]/2)\n",
    "        return x[:, 0:channels, :, :], x[:, channels:, :, :]\n",
    "\n",
    "class BottleNeck(nn.Module):\n",
    "    def __init__(self, in_channels:int, out_channels:int, split:int, stride:int=1) -> None:\n",
    "        super(BottleNeck, self).__init__()\n",
    "        self.w = max(2**(split-2), 1)\n",
    "        self.residual_function = nn.Sequential(\n",
    "            nn.Conv2d(in_channels, self.w*split, kernel_size=1, stride=stride),\n",
    "            nn.BatchNorm2d(self.w*split),\n",
    "            nn.ReLU(inplace=True),\n",
    "            HSBlock(self.w, split, stride),\n",
    "            nn.BatchNorm2d(self.w*split),\n",
    "            nn.ReLU(inplace=True),\n",
    "            nn.Conv2d(self.w*split, out_channels, kernel_size=1, stride=stride),\n",
    "            nn.BatchNorm2d(out_channels)\n",
    "        )\n",
    "        self.shortcut = nn.Sequential()\n",
    "        if stride != 1 or in_channels != out_channels:\n",
    "            self.shortcut = nn.Sequential(\n",
    "                nn.Conv2d(in_channels, out_channels, stride=stride, kernel_size=1, bias=False),\n",
    "                nn.BatchNorm2d(out_channels)\n",
    "            )\n",
    "\n",
    "    def forward(self, x):\n",
    "        return nn.ReLU(inplace=True)(self.residual_function(x) + self.shortcut(x))"
   ]
  },
  {
   "cell_type": "code",
   "execution_count": 56,
   "metadata": {},
   "outputs": [
    {
     "output_type": "execute_result",
     "data": {
      "text/plain": [
       "torch.Size([1, 3, 28, 28])"
      ]
     },
     "metadata": {},
     "execution_count": 56
    }
   ],
   "source": [
    "x = torch.ones(1, 3, 28, 28)\n",
    "bn = BottleNeck(3, 3, 5)\n",
    "y = bn(x)\n",
    "y.shape"
   ]
  },
  {
   "cell_type": "code",
   "execution_count": null,
   "metadata": {},
   "outputs": [],
   "source": []
  }
 ]
}