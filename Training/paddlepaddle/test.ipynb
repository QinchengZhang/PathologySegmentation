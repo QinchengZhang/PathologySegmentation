{
 "metadata": {
  "language_info": {
   "codemirror_mode": {
    "name": "ipython",
    "version": 3
   },
   "file_extension": ".py",
   "mimetype": "text/x-python",
   "name": "python",
   "nbconvert_exporter": "python",
   "pygments_lexer": "ipython3",
   "version": "3.7.6-final"
  },
  "orig_nbformat": 2,
  "kernelspec": {
   "name": "python3",
   "display_name": "Python 3"
  }
 },
 "nbformat": 4,
 "nbformat_minor": 2,
 "cells": [
  {
   "cell_type": "code",
   "execution_count": 1,
   "metadata": {},
   "outputs": [],
   "source": [
    "import paddle\n",
    "from paddle.fluid.layers.nn import scale\n",
    "from models import *\n",
    "from utils import *"
   ]
  },
  {
   "cell_type": "code",
   "execution_count": 2,
   "metadata": {},
   "outputs": [
    {
     "output_type": "stream",
     "name": "stderr",
     "text": [
      "E:\\anaconda3\\lib\\site-packages\\ipykernel\\ipkernel.py:287: DeprecationWarning: `should_run_async` will not call `transform_cell` automatically in the future. Please pass the result to `transformed_cell` argument and any exception that happen during thetransform in `preprocessing_exc_tuple` in IPython 7.17 and above.\n  and should_run_async(code)\n"
     ]
    },
    {
     "output_type": "execute_result",
     "data": {
      "text/plain": [
       "Tensor(shape=[1, 8, 28, 28], dtype=float32, place=CUDAPlace(0), stop_gradient=True,\n",
       "       [[[[1., 1., 1., ..., 1., 1., 1.],\n",
       "          [1., 1., 1., ..., 1., 1., 1.],\n",
       "          [1., 1., 1., ..., 1., 1., 1.],\n",
       "          ...,\n",
       "          [1., 1., 1., ..., 1., 1., 1.],\n",
       "          [1., 1., 1., ..., 1., 1., 1.],\n",
       "          [1., 1., 1., ..., 1., 1., 1.]],\n",
       "\n",
       "         [[1., 1., 1., ..., 1., 1., 1.],\n",
       "          [1., 1., 1., ..., 1., 1., 1.],\n",
       "          [1., 1., 1., ..., 1., 1., 1.],\n",
       "          ...,\n",
       "          [1., 1., 1., ..., 1., 1., 1.],\n",
       "          [1., 1., 1., ..., 1., 1., 1.],\n",
       "          [1., 1., 1., ..., 1., 1., 1.]],\n",
       "\n",
       "         [[1., 1., 1., ..., 1., 1., 1.],\n",
       "          [1., 1., 1., ..., 1., 1., 1.],\n",
       "          [1., 1., 1., ..., 1., 1., 1.],\n",
       "          ...,\n",
       "          [1., 1., 1., ..., 1., 1., 1.],\n",
       "          [1., 1., 1., ..., 1., 1., 1.],\n",
       "          [1., 1., 1., ..., 1., 1., 1.]],\n",
       "\n",
       "         ...,\n",
       "\n",
       "         [[1., 1., 1., ..., 1., 1., 1.],\n",
       "          [1., 1., 1., ..., 1., 1., 1.],\n",
       "          [1., 1., 1., ..., 1., 1., 1.],\n",
       "          ...,\n",
       "          [1., 1., 1., ..., 1., 1., 1.],\n",
       "          [1., 1., 1., ..., 1., 1., 1.],\n",
       "          [1., 1., 1., ..., 1., 1., 1.]],\n",
       "\n",
       "         [[1., 1., 1., ..., 1., 1., 1.],\n",
       "          [1., 1., 1., ..., 1., 1., 1.],\n",
       "          [1., 1., 1., ..., 1., 1., 1.],\n",
       "          ...,\n",
       "          [1., 1., 1., ..., 1., 1., 1.],\n",
       "          [1., 1., 1., ..., 1., 1., 1.],\n",
       "          [1., 1., 1., ..., 1., 1., 1.]],\n",
       "\n",
       "         [[1., 1., 1., ..., 1., 1., 1.],\n",
       "          [1., 1., 1., ..., 1., 1., 1.],\n",
       "          [1., 1., 1., ..., 1., 1., 1.],\n",
       "          ...,\n",
       "          [1., 1., 1., ..., 1., 1., 1.],\n",
       "          [1., 1., 1., ..., 1., 1., 1.],\n",
       "          [1., 1., 1., ..., 1., 1., 1.]]]])"
      ]
     },
     "metadata": {},
     "execution_count": 2
    }
   ],
   "source": [
    "inputs = paddle.ones((1,40,28,28))\n",
    "labels = paddle.ones((1,8,28,28))\n",
    "model = HSBlock(8, 5, 1)\n",
    "outputs = model(inputs)\n",
    "outputs"
   ]
  },
  {
   "cell_type": "code",
   "execution_count": 3,
   "metadata": {},
   "outputs": [
    {
     "output_type": "stream",
     "name": "stderr",
     "text": [
      "E:\\anaconda3\\lib\\site-packages\\paddle\\fluid\\layers\\utils.py:77: DeprecationWarning: Using or importing the ABCs from 'collections' instead of from 'collections.abc' is deprecated since Python 3.3,and in 3.9 it will stop working\n  return (isinstance(seq, collections.Sequence) and\n"
     ]
    }
   ],
   "source": [
    "paddle.jit.save(model, 'test', [inputs])\n"
   ]
  },
  {
   "cell_type": "code",
   "execution_count": null,
   "metadata": {},
   "outputs": [],
   "source": []
  }
 ]
}