{
 "metadata": {
  "language_info": {
   "codemirror_mode": {
    "name": "ipython",
    "version": 3
   },
   "file_extension": ".py",
   "mimetype": "text/x-python",
   "name": "python",
   "nbconvert_exporter": "python",
   "pygments_lexer": "ipython3",
   "version": "3.7.6-final"
  },
  "orig_nbformat": 2,
  "kernelspec": {
   "name": "python3",
   "display_name": "Python 3.7.6 64-bit (conda)",
   "metadata": {
    "interpreter": {
     "hash": "a8f61be024eba58adef938c9aa1e29e02cb3dece83a5348b1a2dafd16a070453"
    }
   }
  }
 },
 "nbformat": 4,
 "nbformat_minor": 2,
 "cells": [
  {
   "cell_type": "code",
   "execution_count": 1,
   "metadata": {},
   "outputs": [],
   "source": [
    "import paddle\n",
    "from paddle.fluid.layers.nn import scale\n",
    "from models import HSU_Net\n",
    "from utils import *"
   ]
  },
  {
   "cell_type": "code",
   "execution_count": 2,
   "metadata": {},
   "outputs": [
    {
     "output_type": "stream",
     "name": "stdout",
     "text": [
      "---------------------------------------------------------------------------\n Layer (type)       Input Shape          Output Shape         Param #    \n===========================================================================\n   Conv2D-1      [[1, 3, 512, 512]]   [1, 40, 512, 512]         160      \n BatchNorm2D-1  [[1, 40, 512, 512]]   [1, 40, 512, 512]         160      \n    ReLU-1      [[1, 40, 512, 512]]   [1, 40, 512, 512]          0       \n   HSBlock-1    [[1, 40, 512, 512]]   [1, 40, 512, 512]          0       \n BatchNorm2D-2  [[1, 40, 512, 512]]   [1, 40, 512, 512]         160      \n    ReLU-2      [[1, 40, 512, 512]]   [1, 40, 512, 512]          0       \n   Conv2D-2     [[1, 40, 512, 512]]   [1, 64, 512, 512]        2,624     \n BatchNorm2D-3  [[1, 64, 512, 512]]   [1, 64, 512, 512]         256      \n   Conv2D-3      [[1, 3, 512, 512]]   [1, 64, 512, 512]         256      \n BatchNorm2D-4  [[1, 64, 512, 512]]   [1, 64, 512, 512]         256      \nHSBottleNeck-1   [[1, 3, 512, 512]]   [1, 64, 512, 512]          0       \n  MaxPool2D-1    [[1, 512, 64, 64]]    [1, 512, 32, 32]          0       \n   Conv2D-4     [[1, 64, 256, 256]]   [1, 40, 256, 256]        2,600     \n BatchNorm2D-5  [[1, 40, 256, 256]]   [1, 40, 256, 256]         160      \n    ReLU-3      [[1, 40, 256, 256]]   [1, 40, 256, 256]          0       \n   HSBlock-2    [[1, 40, 256, 256]]   [1, 40, 256, 256]          0       \n BatchNorm2D-6  [[1, 40, 256, 256]]   [1, 40, 256, 256]         160      \n    ReLU-4      [[1, 40, 256, 256]]   [1, 40, 256, 256]          0       \n   Conv2D-5     [[1, 40, 256, 256]]   [1, 128, 256, 256]       5,248     \n BatchNorm2D-7  [[1, 128, 256, 256]]  [1, 128, 256, 256]        512      \n   Conv2D-6     [[1, 64, 256, 256]]   [1, 128, 256, 256]       8,320     \n BatchNorm2D-8  [[1, 128, 256, 256]]  [1, 128, 256, 256]        512      \nHSBottleNeck-2  [[1, 64, 256, 256]]   [1, 128, 256, 256]         0       \n   Conv2D-7     [[1, 128, 128, 128]]  [1, 40, 128, 128]        5,160     \n BatchNorm2D-9  [[1, 40, 128, 128]]   [1, 40, 128, 128]         160      \n    ReLU-5      [[1, 40, 128, 128]]   [1, 40, 128, 128]          0       \n   HSBlock-3    [[1, 40, 128, 128]]   [1, 40, 128, 128]          0       \nBatchNorm2D-10  [[1, 40, 128, 128]]   [1, 40, 128, 128]         160      \n    ReLU-6      [[1, 40, 128, 128]]   [1, 40, 128, 128]          0       \n   Conv2D-8     [[1, 40, 128, 128]]   [1, 256, 128, 128]      10,496     \nBatchNorm2D-11  [[1, 256, 128, 128]]  [1, 256, 128, 128]       1,024     \n   Conv2D-9     [[1, 128, 128, 128]]  [1, 256, 128, 128]      33,024     \nBatchNorm2D-12  [[1, 256, 128, 128]]  [1, 256, 128, 128]       1,024     \nHSBottleNeck-3  [[1, 128, 128, 128]]  [1, 256, 128, 128]         0       \n   Conv2D-10     [[1, 256, 64, 64]]    [1, 40, 64, 64]        10,280     \nBatchNorm2D-13   [[1, 40, 64, 64]]     [1, 40, 64, 64]          160      \n    ReLU-7       [[1, 40, 64, 64]]     [1, 40, 64, 64]           0       \n   HSBlock-4     [[1, 40, 64, 64]]     [1, 40, 64, 64]           0       \nBatchNorm2D-14   [[1, 40, 64, 64]]     [1, 40, 64, 64]          160      \n    ReLU-8       [[1, 40, 64, 64]]     [1, 40, 64, 64]           0       \n   Conv2D-11     [[1, 40, 64, 64]]     [1, 512, 64, 64]       20,992     \nBatchNorm2D-15   [[1, 512, 64, 64]]    [1, 512, 64, 64]        2,048     \n   Conv2D-12     [[1, 256, 64, 64]]    [1, 512, 64, 64]       131,584    \nBatchNorm2D-16   [[1, 512, 64, 64]]    [1, 512, 64, 64]        2,048     \nHSBottleNeck-4   [[1, 256, 64, 64]]    [1, 512, 64, 64]          0       \n   Conv2D-13     [[1, 512, 32, 32]]    [1, 40, 32, 32]        20,520     \nBatchNorm2D-17   [[1, 40, 32, 32]]     [1, 40, 32, 32]          160      \n    ReLU-9       [[1, 40, 32, 32]]     [1, 40, 32, 32]           0       \n   HSBlock-5     [[1, 40, 32, 32]]     [1, 40, 32, 32]           0       \nBatchNorm2D-18   [[1, 40, 32, 32]]     [1, 40, 32, 32]          160      \n    ReLU-10      [[1, 40, 32, 32]]     [1, 40, 32, 32]           0       \n   Conv2D-14     [[1, 40, 32, 32]]    [1, 1024, 32, 32]       41,984     \nBatchNorm2D-19  [[1, 1024, 32, 32]]   [1, 1024, 32, 32]        4,096     \n   Conv2D-15     [[1, 512, 32, 32]]   [1, 1024, 32, 32]       525,312    \nBatchNorm2D-20  [[1, 1024, 32, 32]]   [1, 1024, 32, 32]        4,096     \nHSBottleNeck-5   [[1, 512, 32, 32]]   [1, 1024, 32, 32]          0       \n  Upsample-1    [[1, 1024, 32, 32]]   [1, 1024, 64, 64]          0       \n   Conv2D-16    [[1, 1024, 64, 64]]    [1, 512, 64, 64]      4,719,104   \nBatchNorm2D-21   [[1, 512, 64, 64]]    [1, 512, 64, 64]        2,048     \n    ReLU6-1      [[1, 512, 64, 64]]    [1, 512, 64, 64]          0       \n   up_conv-1    [[1, 1024, 32, 32]]    [1, 512, 64, 64]          0       \n   Conv2D-17    [[1, 1024, 64, 64]]    [1, 40, 64, 64]        41,000     \nBatchNorm2D-22   [[1, 40, 64, 64]]     [1, 40, 64, 64]          160      \n    ReLU-11      [[1, 40, 64, 64]]     [1, 40, 64, 64]           0       \n   HSBlock-6     [[1, 40, 64, 64]]     [1, 40, 64, 64]           0       \nBatchNorm2D-23   [[1, 40, 64, 64]]     [1, 40, 64, 64]          160      \n    ReLU-12      [[1, 40, 64, 64]]     [1, 40, 64, 64]           0       \n   Conv2D-18     [[1, 40, 64, 64]]     [1, 512, 64, 64]       20,992     \nBatchNorm2D-24   [[1, 512, 64, 64]]    [1, 512, 64, 64]        2,048     \n   Conv2D-19    [[1, 1024, 64, 64]]    [1, 512, 64, 64]       524,800    \nBatchNorm2D-25   [[1, 512, 64, 64]]    [1, 512, 64, 64]        2,048     \nHSBottleNeck-6  [[1, 1024, 64, 64]]    [1, 512, 64, 64]          0       \n  Upsample-2     [[1, 512, 64, 64]]   [1, 512, 128, 128]         0       \n   Conv2D-20    [[1, 512, 128, 128]]  [1, 256, 128, 128]     1,179,904   \nBatchNorm2D-26  [[1, 256, 128, 128]]  [1, 256, 128, 128]       1,024     \n    ReLU6-2     [[1, 256, 128, 128]]  [1, 256, 128, 128]         0       \n   up_conv-2     [[1, 512, 64, 64]]   [1, 256, 128, 128]         0       \n   Conv2D-21    [[1, 512, 128, 128]]  [1, 40, 128, 128]       20,520     \nBatchNorm2D-27  [[1, 40, 128, 128]]   [1, 40, 128, 128]         160      \n    ReLU-13     [[1, 40, 128, 128]]   [1, 40, 128, 128]          0       \n   HSBlock-7    [[1, 40, 128, 128]]   [1, 40, 128, 128]          0       \nBatchNorm2D-28  [[1, 40, 128, 128]]   [1, 40, 128, 128]         160      \n    ReLU-14     [[1, 40, 128, 128]]   [1, 40, 128, 128]          0       \n   Conv2D-22    [[1, 40, 128, 128]]   [1, 256, 128, 128]      10,496     \nBatchNorm2D-29  [[1, 256, 128, 128]]  [1, 256, 128, 128]       1,024     \n   Conv2D-23    [[1, 512, 128, 128]]  [1, 256, 128, 128]      131,328    \nBatchNorm2D-30  [[1, 256, 128, 128]]  [1, 256, 128, 128]       1,024     \nHSBottleNeck-7  [[1, 512, 128, 128]]  [1, 256, 128, 128]         0       \n  Upsample-3    [[1, 256, 128, 128]]  [1, 256, 256, 256]         0       \n   Conv2D-24    [[1, 256, 256, 256]]  [1, 128, 256, 256]      295,040    \nBatchNorm2D-31  [[1, 128, 256, 256]]  [1, 128, 256, 256]        512      \n    ReLU6-3     [[1, 128, 256, 256]]  [1, 128, 256, 256]         0       \n   up_conv-3    [[1, 256, 128, 128]]  [1, 128, 256, 256]         0       \n   Conv2D-25    [[1, 256, 256, 256]]  [1, 40, 256, 256]       10,280     \nBatchNorm2D-32  [[1, 40, 256, 256]]   [1, 40, 256, 256]         160      \n    ReLU-15     [[1, 40, 256, 256]]   [1, 40, 256, 256]          0       \n   HSBlock-8    [[1, 40, 256, 256]]   [1, 40, 256, 256]          0       \nBatchNorm2D-33  [[1, 40, 256, 256]]   [1, 40, 256, 256]         160      \n    ReLU-16     [[1, 40, 256, 256]]   [1, 40, 256, 256]          0       \n   Conv2D-26    [[1, 40, 256, 256]]   [1, 128, 256, 256]       5,248     \nBatchNorm2D-34  [[1, 128, 256, 256]]  [1, 128, 256, 256]        512      \n   Conv2D-27    [[1, 256, 256, 256]]  [1, 128, 256, 256]      32,896     \nBatchNorm2D-35  [[1, 128, 256, 256]]  [1, 128, 256, 256]        512      \nHSBottleNeck-8  [[1, 256, 256, 256]]  [1, 128, 256, 256]         0       \n  Upsample-4    [[1, 128, 256, 256]]  [1, 128, 512, 512]         0       \n   Conv2D-28    [[1, 128, 512, 512]]  [1, 64, 512, 512]       73,792     \nBatchNorm2D-36  [[1, 64, 512, 512]]   [1, 64, 512, 512]         256      \n    ReLU6-4     [[1, 64, 512, 512]]   [1, 64, 512, 512]          0       \n   up_conv-4    [[1, 128, 256, 256]]  [1, 64, 512, 512]          0       \n   Conv2D-29    [[1, 128, 512, 512]]  [1, 40, 512, 512]        5,160     \nBatchNorm2D-37  [[1, 40, 512, 512]]   [1, 40, 512, 512]         160      \n    ReLU-17     [[1, 40, 512, 512]]   [1, 40, 512, 512]          0       \n   HSBlock-9    [[1, 40, 512, 512]]   [1, 40, 512, 512]          0       \nBatchNorm2D-38  [[1, 40, 512, 512]]   [1, 40, 512, 512]         160      \n    ReLU-18     [[1, 40, 512, 512]]   [1, 40, 512, 512]          0       \n   Conv2D-30    [[1, 40, 512, 512]]   [1, 64, 512, 512]        2,624     \nBatchNorm2D-39  [[1, 64, 512, 512]]   [1, 64, 512, 512]         256      \n   Conv2D-31    [[1, 128, 512, 512]]  [1, 64, 512, 512]        8,256     \nBatchNorm2D-40  [[1, 64, 512, 512]]   [1, 64, 512, 512]         256      \nHSBottleNeck-9  [[1, 128, 512, 512]]  [1, 64, 512, 512]          0       \n   Conv2D-32    [[1, 64, 512, 512]]    [1, 1, 512, 512]         65       \n===========================================================================\nTotal params: 7,930,337\nTrainable params: 7,900,065\nNon-trainable params: 30,272\n---------------------------------------------------------------------------\nInput size (MB): 3.00\nForward/backward pass size (MB): 5162.88\nParams size (MB): 30.25\nEstimated Total Size (MB): 5196.13\n---------------------------------------------------------------------------\n\n"
     ]
    },
    {
     "output_type": "execute_result",
     "data": {
      "text/plain": [
       "{'total_params': 7930337, 'trainable_params': 7900065}"
      ]
     },
     "metadata": {},
     "execution_count": 2
    }
   ],
   "source": [
    "paddle.set_device('cpu')\n",
    "num_classes = 1\n",
    "network = HSU_Net()\n",
    "model = paddle.Model(network)\n",
    "model.summary((-1, 3, 512, 512))"
   ]
  },
  {
   "cell_type": "code",
   "execution_count": 3,
   "metadata": {},
   "outputs": [
    {
     "output_type": "stream",
     "name": "stderr",
     "text": [
      "<>:1: DeprecationWarning: invalid escape sequence \\T\n<>:2: DeprecationWarning: invalid escape sequence \\T\n<>:3: DeprecationWarning: invalid escape sequence \\T\n<>:4: DeprecationWarning: invalid escape sequence \\T\n<>:1: DeprecationWarning: invalid escape sequence \\T\n<>:2: DeprecationWarning: invalid escape sequence \\T\n<>:3: DeprecationWarning: invalid escape sequence \\T\n<>:4: DeprecationWarning: invalid escape sequence \\T\n<>:1: DeprecationWarning: invalid escape sequence \\T\n<>:2: DeprecationWarning: invalid escape sequence \\T\n<>:3: DeprecationWarning: invalid escape sequence \\T\n<>:4: DeprecationWarning: invalid escape sequence \\T\n<ipython-input-3-6b4dcd18618b>:1: DeprecationWarning: invalid escape sequence \\T\n  train_dataset = SegDataset(\"G:\\TJUZQC\\code\\python\\PathologySegmentation\\Training\\pytorch\\data\\WSI\\imgs\",\n<ipython-input-3-6b4dcd18618b>:2: DeprecationWarning: invalid escape sequence \\T\n  \"G:\\TJUZQC\\code\\python\\PathologySegmentation\\Training\\pytorch\\data\\WSI\\masks\", scale=0.5) # 训练数据集\n<ipython-input-3-6b4dcd18618b>:3: DeprecationWarning: invalid escape sequence \\T\n  val_dataset = SegDataset(\"G:\\TJUZQC\\code\\python\\PathologySegmentation\\Training\\pytorch\\data\\WSI\\imgs\",\n<ipython-input-3-6b4dcd18618b>:4: DeprecationWarning: invalid escape sequence \\T\n  \"G:\\TJUZQC\\code\\python\\PathologySegmentation\\Training\\pytorch\\data\\WSI\\masks\", train=False, scale=0.5) # 验证数据集\n"
     ]
    }
   ],
   "source": [
    "train_dataset = SegDataset(\"G:\\TJUZQC\\code\\python\\PathologySegmentation\\Training\\pytorch\\data\\WSI\\imgs\",\n",
    "                           \"G:\\TJUZQC\\code\\python\\PathologySegmentation\\Training\\pytorch\\data\\WSI\\masks\", scale=0.5) # 训练数据集\n",
    "val_dataset = SegDataset(\"G:\\TJUZQC\\code\\python\\PathologySegmentation\\Training\\pytorch\\data\\WSI\\imgs\",\n",
    "                         \"G:\\TJUZQC\\code\\python\\PathologySegmentation\\Training\\pytorch\\data\\WSI\\masks\", train=False, scale=0.5) # 验证数据集"
   ]
  },
  {
   "cell_type": "code",
   "execution_count": 4,
   "metadata": {},
   "outputs": [],
   "source": [
    "train_loader = paddle.io.DataLoader(train_dataset, places=paddle.CPUPlace(), batch_size=1, shuffle=True)\n",
    "val_loader = paddle.io.DataLoader(val_dataset, places=paddle.CPUPlace(), batch_size=1, shuffle=False)\n",
    "network.train()"
   ]
  },
  {
   "cell_type": "code",
   "execution_count": 5,
   "metadata": {},
   "outputs": [],
   "source": [
    "optim = paddle.optimizer.RMSProp(learning_rate=0.001,\n",
    "                                 rho=0.9,\n",
    "                                 momentum=0.0,\n",
    "                                 epsilon=1e-07,\n",
    "                                 centered=False,\n",
    "                                 parameters=model.parameters())\n",
    "loss_func = paddle.nn.BCEWithLogitsLoss()"
   ]
  },
  {
   "cell_type": "code",
   "execution_count": 19,
   "metadata": {},
   "outputs": [
    {
     "output_type": "stream",
     "name": "stdout",
     "text": [
      "[1, 1, 512, 512] VarType.FP32\n",
      "(Tensor(shape=[1], dtype=float32, place=CPUPlace, stop_gradient=True,\n",
      "       [0.19058473]), Tensor(shape=[1], dtype=int32, place=CPUPlace, stop_gradient=True,\n",
      "       [141693]), Tensor(shape=[1], dtype=int32, place=CPUPlace, stop_gradient=True,\n",
      "       [33363]))\n"
     ]
    }
   ],
   "source": [
    "for batch_id, data in enumerate(train_loader()):\n",
    "    x_data = data[0]            # 训练数据\n",
    "    y_data = data[1]            # 训练数据标签\n",
    "    x_data = x_data.astype('float32')\n",
    "    y_data = y_data.astype('float32')\n",
    "    print(y_data.shape, y_data.dtype)\n",
    "    predicts = network(x_data)    # 预测结果\n",
    "    predicts = paddle.nn.Sigmoid()(predicts)\n",
    "    pre_np = predicts.numpy()\n",
    "    pre_np[pre_np > 0.5] = 1\n",
    "    predicts = paddle.to_tensor(pre_np, 'int32')\n",
    "    miou = paddle.metric.mean_iou(predicts, y_data.astype('int32'), 1)\n",
    "    print(miou)\n",
    "    break"
   ]
  },
  {
   "cell_type": "code",
   "execution_count": null,
   "metadata": {},
   "outputs": [],
   "source": []
  }
 ]
}